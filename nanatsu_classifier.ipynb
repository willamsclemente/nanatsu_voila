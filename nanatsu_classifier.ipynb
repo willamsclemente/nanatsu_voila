{
  "nbformat": 4,
  "nbformat_minor": 0,
  "metadata": {
    "jupytext": {
      "split_at_heading": true
    },
    "kernelspec": {
      "display_name": "Python 3",
      "language": "python",
      "name": "python3"
    },
    "colab": {
      "name": "nanatsu_classifier.ipynb",
      "provenance": [],
      "collapsed_sections": []
    },
    "widgets": {
      "application/vnd.jupyter.widget-state+json": {
        "c6f09f12993d49e7a7783c5f6b88010e": {
          "model_module": "@jupyter-widgets/controls",
          "model_name": "VBoxModel",
          "state": {
            "_view_name": "VBoxView",
            "_dom_classes": [],
            "_model_name": "VBoxModel",
            "_view_module": "@jupyter-widgets/controls",
            "_model_module_version": "1.5.0",
            "_view_count": null,
            "_view_module_version": "1.5.0",
            "box_style": "",
            "layout": "IPY_MODEL_0f89bf68326c48b39db4e04995de1728",
            "_model_module": "@jupyter-widgets/controls",
            "children": [
              "IPY_MODEL_a0bbd6dbdfb24d4d9c1923ba2cdf4ef5",
              "IPY_MODEL_2d949f01e3334d2d9b016ffd4ca2476d",
              "IPY_MODEL_5e1f877e14994a39841994cb6a6ee937",
              "IPY_MODEL_96ff2bfdb0e0497fb6658fd9de1c00e4"
            ]
          }
        },
        "0f89bf68326c48b39db4e04995de1728": {
          "model_module": "@jupyter-widgets/base",
          "model_name": "LayoutModel",
          "state": {
            "_view_name": "LayoutView",
            "grid_template_rows": null,
            "right": null,
            "justify_content": null,
            "_view_module": "@jupyter-widgets/base",
            "overflow": null,
            "_model_module_version": "1.2.0",
            "_view_count": null,
            "flex_flow": null,
            "width": null,
            "min_width": null,
            "border": null,
            "align_items": null,
            "bottom": null,
            "_model_module": "@jupyter-widgets/base",
            "top": null,
            "grid_column": null,
            "overflow_y": null,
            "overflow_x": null,
            "grid_auto_flow": null,
            "grid_area": null,
            "grid_template_columns": null,
            "flex": null,
            "_model_name": "LayoutModel",
            "justify_items": null,
            "grid_row": null,
            "max_height": null,
            "align_content": null,
            "visibility": null,
            "align_self": null,
            "height": null,
            "min_height": null,
            "padding": null,
            "grid_auto_rows": null,
            "grid_gap": null,
            "max_width": null,
            "order": null,
            "_view_module_version": "1.2.0",
            "grid_template_areas": null,
            "object_position": null,
            "object_fit": null,
            "grid_auto_columns": null,
            "margin": null,
            "display": null,
            "left": null
          }
        },
        "a0bbd6dbdfb24d4d9c1923ba2cdf4ef5": {
          "model_module": "@jupyter-widgets/controls",
          "model_name": "LabelModel",
          "state": {
            "_view_name": "LabelView",
            "style": "IPY_MODEL_9e91b147df3d4ea3ae6e9d4d7caf84fa",
            "_dom_classes": [],
            "description": "",
            "_model_name": "LabelModel",
            "placeholder": "​",
            "_view_module": "@jupyter-widgets/controls",
            "_model_module_version": "1.5.0",
            "value": "Select your sins!",
            "_view_count": null,
            "_view_module_version": "1.5.0",
            "description_tooltip": null,
            "_model_module": "@jupyter-widgets/controls",
            "layout": "IPY_MODEL_26e7c50c7cb04273bb09e7a2053ea892"
          }
        },
        "2d949f01e3334d2d9b016ffd4ca2476d": {
          "model_module": "@jupyter-widgets/controls",
          "model_name": "FileUploadModel",
          "state": {
            "_view_name": "FileUploadView",
            "_counter": 2,
            "style": "IPY_MODEL_c23778e6c83240bb9c93b2d922a06554",
            "_dom_classes": [],
            "description": "Upload",
            "multiple": false,
            "_model_name": "FileUploadModel",
            "data": [
              null
            ],
            "button_style": "",
            "_view_module": "@jupyter-widgets/controls",
            "_model_module_version": "1.5.0",
            "accept": "",
            "_view_count": null,
            "disabled": false,
            "_view_module_version": "1.5.0",
            "error": "",
            "description_tooltip": null,
            "metadata": [
              {
                "name": "meliodas.jpg",
                "type": "image/jpeg",
                "size": 11541,
                "lastModified": 1605502407626
              }
            ],
            "_model_module": "@jupyter-widgets/controls",
            "layout": "IPY_MODEL_2b78820600654dd1bee1ca6c5dd1efd6",
            "icon": "upload"
          }
        },
        "5e1f877e14994a39841994cb6a6ee937": {
          "model_module": "@jupyter-widgets/output",
          "model_name": "OutputModel",
          "state": {
            "_view_name": "OutputView",
            "msg_id": "",
            "_dom_classes": [],
            "_model_name": "OutputModel",
            "outputs": [
              {
                "output_type": "display_data",
                "metadata": {
                  "tags": []
                },
                "image/png": "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\n",
                "text/plain": "<PIL.Image.Image image mode=RGB size=102x128 at 0x7FF93A480FD0>"
              }
            ],
            "_view_module": "@jupyter-widgets/output",
            "_model_module_version": "1.0.0",
            "_view_count": null,
            "_view_module_version": "1.0.0",
            "layout": "IPY_MODEL_a2ee70b0b3b24f058b7c8f2ff254344d",
            "_model_module": "@jupyter-widgets/output"
          }
        },
        "96ff2bfdb0e0497fb6658fd9de1c00e4": {
          "model_module": "@jupyter-widgets/controls",
          "model_name": "LabelModel",
          "state": {
            "_view_name": "LabelView",
            "style": "IPY_MODEL_209d0ce1ace24d1c9185b474e8f2c90c",
            "_dom_classes": [],
            "description": "",
            "_model_name": "LabelModel",
            "placeholder": "​",
            "_view_module": "@jupyter-widgets/controls",
            "_model_module_version": "1.5.0",
            "value": "Prediction: meliodas; Probability: 0.6191",
            "_view_count": null,
            "_view_module_version": "1.5.0",
            "description_tooltip": null,
            "_model_module": "@jupyter-widgets/controls",
            "layout": "IPY_MODEL_05f55d45b1dc4642980bc474ad8bd652"
          }
        },
        "9e91b147df3d4ea3ae6e9d4d7caf84fa": {
          "model_module": "@jupyter-widgets/controls",
          "model_name": "DescriptionStyleModel",
          "state": {
            "_view_name": "StyleView",
            "_model_name": "DescriptionStyleModel",
            "description_width": "",
            "_view_module": "@jupyter-widgets/base",
            "_model_module_version": "1.5.0",
            "_view_count": null,
            "_view_module_version": "1.2.0",
            "_model_module": "@jupyter-widgets/controls"
          }
        },
        "26e7c50c7cb04273bb09e7a2053ea892": {
          "model_module": "@jupyter-widgets/base",
          "model_name": "LayoutModel",
          "state": {
            "_view_name": "LayoutView",
            "grid_template_rows": null,
            "right": null,
            "justify_content": null,
            "_view_module": "@jupyter-widgets/base",
            "overflow": null,
            "_model_module_version": "1.2.0",
            "_view_count": null,
            "flex_flow": null,
            "width": null,
            "min_width": null,
            "border": null,
            "align_items": null,
            "bottom": null,
            "_model_module": "@jupyter-widgets/base",
            "top": null,
            "grid_column": null,
            "overflow_y": null,
            "overflow_x": null,
            "grid_auto_flow": null,
            "grid_area": null,
            "grid_template_columns": null,
            "flex": null,
            "_model_name": "LayoutModel",
            "justify_items": null,
            "grid_row": null,
            "max_height": null,
            "align_content": null,
            "visibility": null,
            "align_self": null,
            "height": null,
            "min_height": null,
            "padding": null,
            "grid_auto_rows": null,
            "grid_gap": null,
            "max_width": null,
            "order": null,
            "_view_module_version": "1.2.0",
            "grid_template_areas": null,
            "object_position": null,
            "object_fit": null,
            "grid_auto_columns": null,
            "margin": null,
            "display": null,
            "left": null
          }
        },
        "c23778e6c83240bb9c93b2d922a06554": {
          "model_module": "@jupyter-widgets/controls",
          "model_name": "ButtonStyleModel",
          "state": {
            "_view_name": "StyleView",
            "_model_name": "ButtonStyleModel",
            "_view_module": "@jupyter-widgets/base",
            "_model_module_version": "1.5.0",
            "_view_count": null,
            "button_color": null,
            "font_weight": "",
            "_view_module_version": "1.2.0",
            "_model_module": "@jupyter-widgets/controls"
          }
        },
        "2b78820600654dd1bee1ca6c5dd1efd6": {
          "model_module": "@jupyter-widgets/base",
          "model_name": "LayoutModel",
          "state": {
            "_view_name": "LayoutView",
            "grid_template_rows": null,
            "right": null,
            "justify_content": null,
            "_view_module": "@jupyter-widgets/base",
            "overflow": null,
            "_model_module_version": "1.2.0",
            "_view_count": null,
            "flex_flow": null,
            "width": null,
            "min_width": null,
            "border": null,
            "align_items": null,
            "bottom": null,
            "_model_module": "@jupyter-widgets/base",
            "top": null,
            "grid_column": null,
            "overflow_y": null,
            "overflow_x": null,
            "grid_auto_flow": null,
            "grid_area": null,
            "grid_template_columns": null,
            "flex": null,
            "_model_name": "LayoutModel",
            "justify_items": null,
            "grid_row": null,
            "max_height": null,
            "align_content": null,
            "visibility": null,
            "align_self": null,
            "height": null,
            "min_height": null,
            "padding": null,
            "grid_auto_rows": null,
            "grid_gap": null,
            "max_width": null,
            "order": null,
            "_view_module_version": "1.2.0",
            "grid_template_areas": null,
            "object_position": null,
            "object_fit": null,
            "grid_auto_columns": null,
            "margin": null,
            "display": null,
            "left": null
          }
        },
        "209d0ce1ace24d1c9185b474e8f2c90c": {
          "model_module": "@jupyter-widgets/controls",
          "model_name": "DescriptionStyleModel",
          "state": {
            "_view_name": "StyleView",
            "_model_name": "DescriptionStyleModel",
            "description_width": "",
            "_view_module": "@jupyter-widgets/base",
            "_model_module_version": "1.5.0",
            "_view_count": null,
            "_view_module_version": "1.2.0",
            "_model_module": "@jupyter-widgets/controls"
          }
        },
        "05f55d45b1dc4642980bc474ad8bd652": {
          "model_module": "@jupyter-widgets/base",
          "model_name": "LayoutModel",
          "state": {
            "_view_name": "LayoutView",
            "grid_template_rows": null,
            "right": null,
            "justify_content": null,
            "_view_module": "@jupyter-widgets/base",
            "overflow": null,
            "_model_module_version": "1.2.0",
            "_view_count": null,
            "flex_flow": null,
            "width": null,
            "min_width": null,
            "border": null,
            "align_items": null,
            "bottom": null,
            "_model_module": "@jupyter-widgets/base",
            "top": null,
            "grid_column": null,
            "overflow_y": null,
            "overflow_x": null,
            "grid_auto_flow": null,
            "grid_area": null,
            "grid_template_columns": null,
            "flex": null,
            "_model_name": "LayoutModel",
            "justify_items": null,
            "grid_row": null,
            "max_height": null,
            "align_content": null,
            "visibility": null,
            "align_self": null,
            "height": null,
            "min_height": null,
            "padding": null,
            "grid_auto_rows": null,
            "grid_gap": null,
            "max_width": null,
            "order": null,
            "_view_module_version": "1.2.0",
            "grid_template_areas": null,
            "object_position": null,
            "object_fit": null,
            "grid_auto_columns": null,
            "margin": null,
            "display": null,
            "left": null
          }
        },
        "a2ee70b0b3b24f058b7c8f2ff254344d": {
          "model_module": "@jupyter-widgets/base",
          "model_name": "LayoutModel",
          "state": {
            "_view_name": "LayoutView",
            "grid_template_rows": null,
            "right": null,
            "justify_content": null,
            "_view_module": "@jupyter-widgets/base",
            "overflow": null,
            "_model_module_version": "1.2.0",
            "_view_count": null,
            "flex_flow": null,
            "width": null,
            "min_width": null,
            "border": null,
            "align_items": null,
            "bottom": null,
            "_model_module": "@jupyter-widgets/base",
            "top": null,
            "grid_column": null,
            "overflow_y": null,
            "overflow_x": null,
            "grid_auto_flow": null,
            "grid_area": null,
            "grid_template_columns": null,
            "flex": null,
            "_model_name": "LayoutModel",
            "justify_items": null,
            "grid_row": null,
            "max_height": null,
            "align_content": null,
            "visibility": null,
            "align_self": null,
            "height": null,
            "min_height": null,
            "padding": null,
            "grid_auto_rows": null,
            "grid_gap": null,
            "max_width": null,
            "order": null,
            "_view_module_version": "1.2.0",
            "grid_template_areas": null,
            "object_position": null,
            "object_fit": null,
            "grid_auto_columns": null,
            "margin": null,
            "display": null,
            "left": null
          }
        }
      }
    }
  },
  "cells": [
    {
      "cell_type": "code",
      "metadata": {
        "id": "KnhvynAH5Fux"
      },
      "source": [
        "from fastai.vision.all import *\n",
        "from fastai.vision.widgets import *"
      ],
      "execution_count": 3,
      "outputs": []
    },
    {
      "cell_type": "markdown",
      "metadata": {
        "id": "p5KQfLaB7C2e"
      },
      "source": [
        "# **The Amazing Nanatsu no Tazai Classifier**\n",
        "A classifier for you who likes the Nanatsu no Tazai anime, choose an image of one of the seven sins (meliodas, ban, diane, escanor, king, merlin and gowther) and upload it to classify it."
      ]
    },
    {
      "cell_type": "code",
      "metadata": {
        "id": "fq-tSIXm3IhQ"
      },
      "source": [
        "path = Path()\n",
        "learn_inf = load_learner(path/'export.pkl', cpu=True)\n",
        "btn_upload = widgets.FileUpload()\n",
        "out_pl = widgets.Output()\n",
        "lbl_pred = widgets.Label()"
      ],
      "execution_count": 6,
      "outputs": []
    },
    {
      "cell_type": "code",
      "metadata": {
        "id": "IheFksbp3Ihb"
      },
      "source": [
        "def on_data_change(change):\n",
        "    lbl_pred.value = ''\n",
        "    img = PILImage.create(btn_upload.data[-1])\n",
        "    out_pl.clear_output()\n",
        "    with out_pl: display(img.to_thumb(128,128))\n",
        "    pred,pred_idx,probs = learn_inf.predict(img)\n",
        "    lbl_pred.value = f'Prediction: {pred}; Probability: {probs[pred_idx]:.04f}'"
      ],
      "execution_count": 7,
      "outputs": []
    },
    {
      "cell_type": "code",
      "metadata": {
        "id": "bHkamE2W3Iho"
      },
      "source": [
        "btn_upload.observe(on_data_change, names=['data'])"
      ],
      "execution_count": 8,
      "outputs": []
    },
    {
      "cell_type": "code",
      "metadata": {
        "id": "E7bzuNf63Ihz",
        "outputId": "039b2506-2018-42af-bd75-0555546ee2ae",
        "colab": {
          "base_uri": "https://localhost:8080/",
          "height": 241,
          "referenced_widgets": [
            "c6f09f12993d49e7a7783c5f6b88010e",
            "0f89bf68326c48b39db4e04995de1728",
            "a0bbd6dbdfb24d4d9c1923ba2cdf4ef5",
            "2d949f01e3334d2d9b016ffd4ca2476d",
            "5e1f877e14994a39841994cb6a6ee937",
            "96ff2bfdb0e0497fb6658fd9de1c00e4",
            "9e91b147df3d4ea3ae6e9d4d7caf84fa",
            "26e7c50c7cb04273bb09e7a2053ea892",
            "c23778e6c83240bb9c93b2d922a06554",
            "2b78820600654dd1bee1ca6c5dd1efd6",
            "209d0ce1ace24d1c9185b474e8f2c90c",
            "05f55d45b1dc4642980bc474ad8bd652",
            "a2ee70b0b3b24f058b7c8f2ff254344d"
          ]
        }
      },
      "source": [
        "display(VBox([widgets.Label('Select your sins!'), btn_upload, out_pl, lbl_pred]))\n"
      ],
      "execution_count": 12,
      "outputs": [
        {
          "output_type": "display_data",
          "data": {
            "application/vnd.jupyter.widget-view+json": {
              "model_id": "c6f09f12993d49e7a7783c5f6b88010e",
              "version_minor": 0,
              "version_major": 2
            },
            "text/plain": [
              "VBox(children=(Label(value='Select your sins!'), FileUpload(value={'meliodas.jpg': {'metadata': {'lastModified…"
            ]
          },
          "metadata": {
            "tags": []
          }
        }
      ]
    }
  ]
}